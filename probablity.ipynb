{
 "cells": [
  {
   "cell_type": "code",
   "execution_count": 2,
   "metadata": {},
   "outputs": [
    {
     "name": "stdout",
     "output_type": "stream",
     "text": [
      "The probability of getting heads is 0.5\n"
     ]
    }
   ],
   "source": [
    "## given a coin,\n",
    "sample_space = 2 #{H.T}\n",
    "event = 1 # H\n",
    "probability = event/sample_space\n",
    "\n",
    "print(f\"The probability of getting heads is {probability}\")"
   ]
  },
  {
   "cell_type": "code",
   "execution_count": 1,
   "metadata": {},
   "outputs": [
    {
     "name": "stdout",
     "output_type": "stream",
     "text": [
      "The probability of getting a red ball is 0.4\n"
     ]
    }
   ],
   "source": [
    "## given a basket of balls,\n",
    "sample_space = 5 #{blue,red,green,white,red}\n",
    "\n",
    "event = 2 # red\n",
    "\n",
    "probability = event/sample_space\n",
    "\n",
    "print(f\"The probability of getting a red ball is {probability}\")"
   ]
  },
  {
   "cell_type": "code",
   "execution_count": 9,
   "metadata": {},
   "outputs": [
    {
     "name": "stdout",
     "output_type": "stream",
     "text": [
      "The probability of getting a red ball is 0.65\n",
      "The probability of getting a smooth ball is 0.6\n",
      "The probability of getting a red and smooth ball is 0.4\n"
     ]
    }
   ],
   "source": [
    "## 20 marbles in the bag \n",
    "red_smooth = 8\n",
    "red_rough = 5\n",
    "blue_smooth = 4\n",
    "blue_rough = 3\n",
    "\n",
    "sample_space = 8 + 5 + 4 + 3\n",
    "\n",
    "## finding a red marble.\n",
    "event = 8 + 5 \n",
    "sample_space = 20 \n",
    "probability = event/sample_space\n",
    "print(f\"The probability of getting a red ball is {probability}\")\n",
    "\n",
    "## finding a smooth marble.\n",
    "event = 8 + 4\n",
    "sample_space = 20 \n",
    "probability = event/sample_space\n",
    "print(f\"The probability of getting a smooth ball is {probability}\")\n",
    "\n",
    "## finding booth red and smooth\n",
    "event = 8 \n",
    "sample_space = 20 \n",
    "probability = event/sample_space\n",
    "print(f\"The probability of getting a red and smooth ball is {probability}\")\n",
    "\n"
   ]
  },
  {
   "cell_type": "code",
   "execution_count": null,
   "metadata": {},
   "outputs": [],
   "source": [
    "sample_space = {1,2,3,4,5,6}\n",
    "event_one = {1,2,3}\n",
    "event_two = {2,4,3}"
   ]
  },
  {
   "cell_type": "code",
   "execution_count": null,
   "metadata": {},
   "outputs": [],
   "source": [
    "joint_probability = len "
   ]
  }
 ],
 "metadata": {
  "kernelspec": {
   "display_name": "Python 3",
   "language": "python",
   "name": "python3"
  },
  "language_info": {
   "codemirror_mode": {
    "name": "ipython",
    "version": 3
   },
   "file_extension": ".py",
   "mimetype": "text/x-python",
   "name": "python",
   "nbconvert_exporter": "python",
   "pygments_lexer": "ipython3",
   "version": "3.13.0"
  }
 },
 "nbformat": 4,
 "nbformat_minor": 2
}
